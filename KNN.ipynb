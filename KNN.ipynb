{
 "cells": [
  {
   "cell_type": "code",
   "execution_count": 2,
   "metadata": {},
   "outputs": [],
   "source": [
    "import numpy as np\n",
    "import pandas as pd\n",
    "from sklearn.model_selection import train_test_split"
   ]
  },
  {
   "cell_type": "code",
   "execution_count": 3,
   "metadata": {},
   "outputs": [],
   "source": [
    "diabetes_data = pd.read_csv(\"diabetes.csv\")"
   ]
  },
  {
   "cell_type": "code",
   "execution_count": 4,
   "metadata": {},
   "outputs": [],
   "source": [
    "features = diabetes_data.drop(['Outcome'], axis=1)\n",
    "target = diabetes_data['Outcome']"
   ]
  },
  {
   "cell_type": "code",
   "execution_count": 5,
   "metadata": {},
   "outputs": [],
   "source": [
    "def min_max_scaling(X):\n",
    "    return (X - X.min()) / (X.max() - X.min())"
   ]
  },
  {
   "cell_type": "code",
   "execution_count": 6,
   "metadata": {},
   "outputs": [],
   "source": [
    "features_normalized = features.apply(min_max_scaling)\n",
    "\n",
    "X_train, X_test, y_train, y_test, = train_test_split(features_normalized, target, test_size=0.3, shuffle=False)"
   ]
  },
  {
   "cell_type": "code",
   "execution_count": 7,
   "metadata": {},
   "outputs": [],
   "source": [
    "def euclidean_Theorem(x1, x2):\n",
    "    distance = np.sqrt(np.sum((x1 - x2) ** 2))\n",
    "    return distance"
   ]
  },
  {
   "cell_type": "code",
   "execution_count": 8,
   "metadata": {},
   "outputs": [],
   "source": [
    "class KNN():\n",
    "    def __init__(self, X, y, k):\n",
    "        self.X_train = X\n",
    "        self.y_train = y\n",
    "        self.k = k\n",
    "\n",
    "    def predict(self, X):\n",
    "        predictions = []\n",
    "        for x_to_predict in X:\n",
    "\n",
    "            distances = [euclidean_Theorem(x_to_predict, x_train) for x_train in self.X_train]\n",
    "\n",
    "            k_indices = np.argsort(distances)[:self.k]\n",
    "            k_nearest_labels = [self.y_train[i] for i in k_indices]\n",
    "            k_distances = sorted(distances)[:self.k]\n",
    "\n",
    "            count_ones = np.sum(np.array(k_nearest_labels) == 1)\n",
    "            count_zeros = np.sum(np.array(k_nearest_labels) == 0)\n",
    "\n",
    "            if count_ones > count_zeros:\n",
    "                predictions.append(1)\n",
    "\n",
    "            elif count_ones < count_zeros:\n",
    "                predictions.append(0)\n",
    "                \n",
    "            else:  # tie case\n",
    "                class1_weighted_sum = 0     #hold summation of weighted distances of class 1\n",
    "                class0_weighted_sum = 0\n",
    "\n",
    "                weighted_distances = 1 / (np.array(k_distances) + 1e-8)\n",
    "\n",
    "                for i in range(self.k):\n",
    "                    if k_nearest_labels[i] == 1:\n",
    "                        class1_weighted_sum += weighted_distances[i]\n",
    "                    else:\n",
    "                        class0_weighted_sum += weighted_distances[i]\n",
    "\n",
    "                predictions.append(1 if class1_weighted_sum  > class0_weighted_sum  else 0)\n",
    "   \n",
    "        return predictions    \n",
    "            "
   ]
  },
  {
   "cell_type": "code",
   "execution_count": 9,
   "metadata": {},
   "outputs": [],
   "source": [
    "X_train = X_train.to_numpy()\n",
    "X_test = X_test.to_numpy()\n",
    "y_train = y_train.to_numpy()"
   ]
  },
  {
   "cell_type": "code",
   "execution_count": 10,
   "metadata": {},
   "outputs": [
    {
     "name": "stdout",
     "output_type": "stream",
     "text": [
      "k value: 2\n",
      "Number of correctly classified instances: 163\n",
      "Total number of instances: 231\n",
      "Accuracy: 70.56 %\n",
      "\n",
      "k value: 3\n",
      "Number of correctly classified instances: 175\n",
      "Total number of instances: 231\n",
      "Accuracy: 75.76 %\n",
      "\n",
      "k value: 4\n",
      "Number of correctly classified instances: 176\n",
      "Total number of instances: 231\n",
      "Accuracy: 76.19 %\n",
      "\n",
      "k value: 5\n",
      "Number of correctly classified instances: 172\n",
      "Total number of instances: 231\n",
      "Accuracy: 74.46 %\n",
      "\n",
      "k value: 6\n",
      "Number of correctly classified instances: 175\n",
      "Total number of instances: 231\n",
      "Accuracy: 75.76 %\n",
      "\n",
      "Average Accuracy Across All Iterations: 74.55 %\n"
     ]
    }
   ],
   "source": [
    "k_itreations = 5\n",
    "accuracies = 0\n",
    "\n",
    "for k in range(2,k_itreations+2):\n",
    "    knn_model = KNN(X_train, y_train, k)\n",
    "    predictions = knn_model.predict(X_test)\n",
    "    correct_predictions = np.sum(y_test == predictions)\n",
    "    accuracy = correct_predictions / len(X_test)\n",
    "    accuracies += accuracy\n",
    "\n",
    "    print(f\"k value: {k}\")\n",
    "    print(f\"Number of correctly classified instances: {correct_predictions}\")\n",
    "    print(f\"Total number of instances: {len(X_test)}\")\n",
    "    print(f\"Accuracy: {accuracy * 100:.2f} %\\n\")\n",
    "\n",
    "print(f\"Average Accuracy Across All Iterations: {(accuracies/k_itreations)*100:.2f} %\")    "
   ]
  }
 ],
 "metadata": {
  "kernelspec": {
   "display_name": "Python 3",
   "language": "python",
   "name": "python3"
  },
  "language_info": {
   "codemirror_mode": {
    "name": "ipython",
    "version": 3
   },
   "file_extension": ".py",
   "mimetype": "text/x-python",
   "name": "python",
   "nbconvert_exporter": "python",
   "pygments_lexer": "ipython3",
   "version": "3.12.0"
  }
 },
 "nbformat": 4,
 "nbformat_minor": 2
}
