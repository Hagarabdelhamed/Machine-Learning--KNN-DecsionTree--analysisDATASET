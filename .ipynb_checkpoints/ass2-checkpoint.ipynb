{
 "cells": [
  {
   "cell_type": "code",
   "execution_count": 58,
   "id": "dc48c2c7-e9f0-4a49-989f-04d2bc9a1a6c",
   "metadata": {},
   "outputs": [],
   "source": [
    "import numpy as np\n",
    "import pandas as pd\n",
    "import matplotlib.pyplot as plt\n",
    "import seaborn as sns\n",
    "from sklearn.model_selection import train_test_split\n",
    "from sklearn.preprocessing import LabelEncoder\n",
    "from sklearn.tree import DecisionTreeClassifier\n",
    "from sklearn.metrics import accuracy_score"
   ]
  },
  {
   "cell_type": "code",
   "execution_count": 59,
   "id": "63146d6b-9e45-4982-8628-665869d381f1",
   "metadata": {},
   "outputs": [],
   "source": [
    "drug_data = pd.read_csv(\"drug.csv\")"
   ]
  },
  {
   "cell_type": "code",
   "execution_count": 60,
   "id": "ffa29f05-07c9-4887-895b-9f06490899a6",
   "metadata": {},
   "outputs": [
    {
     "name": "stdout",
     "output_type": "stream",
     "text": [
      "Number of missing values:\n",
      " Age            0\n",
      "Sex            0\n",
      "BP             2\n",
      "Cholesterol    2\n",
      "Na_to_K        1\n",
      "Drug           0\n",
      "dtype: int64\n"
     ]
    }
   ],
   "source": [
    "# Count how many missing values occurs\n",
    "print(\"Number of missing values:\\n\", drug_data.isnull().sum())"
   ]
  },
  {
   "cell_type": "code",
   "execution_count": 61,
   "id": "64c091df-4031-4b29-8c2b-b98070020e33",
   "metadata": {},
   "outputs": [
    {
     "name": "stdout",
     "output_type": "stream",
     "text": [
      "The categorical features are:\n",
      "['Sex', 'BP', 'Cholesterol']\n",
      "\n",
      "\n",
      "The numerical features are:\n",
      "['Age', 'Na_to_K']\n"
     ]
    }
   ],
   "source": [
    "# Features types\n",
    "categorical_features = [i for i in drug_data.columns if drug_data[i].dtype == 'O' and i != 'Drug']\n",
    "numerical_features = [i for i in drug_data.columns if drug_data[i].dtype != 'O']\n",
    "print(f\"The categorical features are:\\n{categorical_features}\\n\\n\")\n",
    "print(f\"The numerical features are:\\n{numerical_features}\")"
   ]
  },
  {
   "cell_type": "code",
   "execution_count": 62,
   "id": "3d4aa4c6-bab9-40f5-ab70-db9b726c43e1",
   "metadata": {},
   "outputs": [
    {
     "name": "stdout",
     "output_type": "stream",
     "text": [
      "Age            0\n",
      "Sex            0\n",
      "BP             0\n",
      "Cholesterol    0\n",
      "Na_to_K        0\n",
      "Drug           0\n",
      "dtype: int64\n"
     ]
    }
   ],
   "source": [
    "# Handle empty cell by your own way\n",
    "drug_data.dropna(inplace=True)\n",
    "print(drug_data.isnull().sum())"
   ]
  },
  {
   "cell_type": "code",
   "execution_count": 63,
   "id": "ac4e8013-059c-4790-a044-3906d996300f",
   "metadata": {},
   "outputs": [],
   "source": [
    "# The features and targets are separated\n",
    "features = drug_data.drop(['Drug'], axis=1)\n",
    "drug_target = drug_data['Drug']\n"
   ]
  },
  {
   "cell_type": "code",
   "execution_count": 64,
   "id": "e61c60d1-5a08-439d-a125-0e3fbfeeabb3",
   "metadata": {},
   "outputs": [],
   "source": [
    "# Encode categorical features\n",
    "label_encoder = LabelEncoder()\n",
    "for feature in categorical_features:\n",
    "    features[feature] = label_encoder.fit_transform(features[feature])"
   ]
  },
  {
   "cell_type": "code",
   "execution_count": 65,
   "id": "850509f6-451c-412c-91e9-9df5d7f1913e",
   "metadata": {},
   "outputs": [],
   "source": [
    "# Encode categorical Target\n",
    "drug_target = label_encoder.fit_transform(drug_target)"
   ]
  },
  {
   "cell_type": "code",
   "execution_count": 66,
   "metadata": {},
   "outputs": [
    {
     "name": "stdout",
     "output_type": "stream",
     "text": [
      "\n",
      "Experiment 1:\n",
      "Decision Tree Size: 11\n",
      "Accuracy: 0.9830508474576272\n",
      "\n",
      "\n",
      "Experiment 2:\n",
      "Decision Tree Size: 11\n",
      "Accuracy: 1.0\n",
      "\n",
      "\n",
      "Experiment 3:\n",
      "Decision Tree Size: 11\n",
      "Accuracy: 1.0\n",
      "\n",
      "\n",
      "Experiment 4:\n",
      "Decision Tree Size: 11\n",
      "Accuracy: 1.0\n",
      "\n",
      "\n",
      "Experiment 5:\n",
      "Decision Tree Size: 11\n",
      "Accuracy: 0.9830508474576272\n",
      "\n",
      "Best Model (Highest Accuracy):\n",
      "Experiment: 2\n",
      "Decision Tree Size: 11\n",
      "Accuracy: 1.0\n"
     ]
    },
    {
     "name": "stderr",
     "output_type": "stream",
     "text": [
      "C:\\Users\\LAPTOP\\AppData\\Local\\Temp\\ipykernel_2172\\1443066722.py:26: FutureWarning: The behavior of DataFrame concatenation with empty or all-NA entries is deprecated. In a future version, this will no longer exclude empty or all-NA columns when determining the result dtypes. To retain the old behavior, exclude the relevant entries before the concat operation.\n",
      "  results_df = pd.concat([results_df, pd.DataFrame({\n"
     ]
    }
   ],
   "source": [
    "# Create an empty DataFrame to store results\n",
    "results_df = pd.DataFrame(columns=['Experiment', 'Decision Tree Size', 'Accuracy'])\n",
    "\n",
    "# Perform the experiment five times\n",
    "for i in range(5):\n",
    "    # Split the data into training and testing sets\n",
    "    X_train, X_test, y_train, y_test = train_test_split(\n",
    "        features, drug_target, test_size=0.3, random_state=i)\n",
    "\n",
    "    # Create a decision tree classifier\n",
    "    clf = DecisionTreeClassifier(random_state=0)\n",
    "\n",
    "    # Train the model\n",
    "    clf.fit(X_train, y_train)\n",
    "\n",
    "    # Make predictions on the test set\n",
    "    y_pred = clf.predict(X_test)\n",
    "\n",
    "    # Evaluate the model\n",
    "    accuracy = accuracy_score(y_test, y_pred)\n",
    "\n",
    "    # Get the decision tree size\n",
    "    tree_size = clf.tree_.node_count\n",
    "\n",
    "    # Append results to the DataFrame\n",
    "    results_df = pd.concat([results_df, pd.DataFrame({\n",
    "        'Experiment': [i + 1],\n",
    "        'Decision Tree Size': [tree_size],\n",
    "        'Accuracy': [accuracy]\n",
    "    })], ignore_index=True)\n",
    "\n",
    "    # Report the results for each experiment\n",
    "    print(f\"\\nExperiment {i + 1}:\")\n",
    "    print(f\"Decision Tree Size: {tree_size}\")\n",
    "    print(f\"Accuracy: {accuracy}\\n\")\n",
    "\n",
    "# Identify and report the best model\n",
    "# idxmax() returns the index of the first occurrence of the maximum value.\n",
    "best_model = results_df.loc[results_df['Accuracy'].idxmax()]\n",
    "\n",
    "print(\"Best Model (Highest Accuracy):\")\n",
    "print(f\"Experiment: {int(best_model['Experiment'])}\")\n",
    "print(f\"Decision Tree Size: {int(best_model['Decision Tree Size'])}\")\n",
    "print(f\"Accuracy: {best_model['Accuracy']}\")"
   ]
  },
  {
   "cell_type": "code",
   "execution_count": 67,
   "metadata": {},
   "outputs": [
    {
     "name": "stdout",
     "output_type": "stream",
     "text": [
      "\n",
      "Experiment 1:\n",
      "Decision Tree Size: 11\n",
      "Accuracy: 0.9830508474576272\n",
      "\n",
      "\n",
      "Experiment 2:\n",
      "Decision Tree Size: 11\n",
      "Accuracy: 1.0\n",
      "\n",
      "\n",
      "Experiment 3:\n",
      "Decision Tree Size: 11\n",
      "Accuracy: 1.0\n",
      "\n",
      "\n",
      "Experiment 4:\n",
      "Decision Tree Size: 11\n",
      "Accuracy: 1.0\n",
      "\n",
      "\n",
      "Experiment 5:\n",
      "Decision Tree Size: 11\n",
      "Accuracy: 0.9830508474576272\n",
      "\n"
     ]
    }
   ],
   "source": [
    "# Another way without using DataFrame\n",
    "###First Experiment\n",
    "# Variables to store best model information\n",
    "best_accuracy = 0.0\n",
    "best_experiment = 0\n",
    "best_tree_size = 0\n",
    "\n",
    "# Repeat this experiment five times\n",
    "for i in range(5):\n",
    "    # Split data into training and testing sets\n",
    "    X_train, X_test, y_train, y_test = train_test_split(\n",
    "        features, drug_target, test_size=0.3, random_state=i)\n",
    "\n",
    "    # Create a decision tree classifier\n",
    "    dtc = DecisionTreeClassifier(random_state=0)\n",
    "\n",
    "    # Train model\n",
    "    dtc.fit(X_train, y_train)\n",
    "\n",
    "    # Make predictions on test set\n",
    "    y_pred = dtc.predict(X_test)\n",
    "\n",
    "    # Evaluation of the model\n",
    "    accuracy = accuracy_score(y_test, y_pred)\n",
    "    \n",
    "    # Getting DT size\n",
    "    tree_size = dtc.tree_.node_count\n",
    "\n",
    "    # Report the sizes and accuracies of the decision trees in each experiment\n",
    "    print(f\"\\nExperiment {i + 1}:\")\n",
    "    print(f\"Decision Tree Size: {tree_size}\")\n",
    "    print(f\"Accuracy: {accuracy}\\n\")\n",
    "\n",
    "# Compare the results of different models to get the highest accuracy \n",
    "    if accuracy > best_accuracy:\n",
    "        best_accuracy = accuracy\n",
    "        best_experiment = i + 1\n",
    "        best_tree_size = tree_size\n"
   ]
  },
  {
   "cell_type": "code",
   "execution_count": 68,
   "metadata": {},
   "outputs": [
    {
     "name": "stdout",
     "output_type": "stream",
     "text": [
      "Best Model (Highest Accuracy)\n",
      "  Experiment: 2\n",
      "  Decision Tree Size: 11\n",
      "  Accuracy: 1.0\n"
     ]
    }
   ],
   "source": [
    "# Report the best model\n",
    "print(\"Best Model (Highest Accuracy)\")\n",
    "print(f\"  Experiment: {best_experiment}\")\n",
    "print(f\"  Decision Tree Size: {best_tree_size}\")\n",
    "print(f\"  Accuracy: {best_accuracy}\")"
   ]
  }
 ],
 "metadata": {
  "kernelspec": {
   "display_name": "Python 3 (ipykernel)",
   "language": "python",
   "name": "python3"
  },
  "language_info": {
   "codemirror_mode": {
    "name": "ipython",
    "version": 3
   },
   "file_extension": ".py",
   "mimetype": "text/x-python",
   "name": "python",
   "nbconvert_exporter": "python",
   "pygments_lexer": "ipython3",
   "version": "3.12.0"
  }
 },
 "nbformat": 4,
 "nbformat_minor": 5
}
